{
 "cells": [
  {
   "cell_type": "code",
   "execution_count": 2,
   "id": "2d4b88b5",
   "metadata": {},
   "outputs": [],
   "source": [
    "import numpy as np"
   ]
  },
  {
   "cell_type": "code",
   "execution_count": 3,
   "id": "9bec5123",
   "metadata": {},
   "outputs": [],
   "source": [
    "nd1 = np.array([[1,2],[2,3],[3,4]])"
   ]
  },
  {
   "cell_type": "code",
   "execution_count": 4,
   "id": "4b9e485d",
   "metadata": {},
   "outputs": [
    {
     "name": "stdout",
     "output_type": "stream",
     "text": [
      "[[1 2]\n",
      " [2 3]\n",
      " [3 4]]\n"
     ]
    }
   ],
   "source": [
    "print(nd1)"
   ]
  },
  {
   "cell_type": "code",
   "execution_count": 5,
   "id": "72043557",
   "metadata": {},
   "outputs": [
    {
     "name": "stdout",
     "output_type": "stream",
     "text": [
      "<class 'numpy.ndarray'>\n"
     ]
    }
   ],
   "source": [
    "print(type(nd1))"
   ]
  },
  {
   "cell_type": "code",
   "execution_count": 6,
   "id": "759818d2",
   "metadata": {},
   "outputs": [
    {
     "data": {
      "text/plain": [
       "4"
      ]
     },
     "execution_count": 6,
     "metadata": {},
     "output_type": "execute_result"
    }
   ],
   "source": [
    "nd1.max()"
   ]
  },
  {
   "cell_type": "code",
   "execution_count": 7,
   "id": "b578f828",
   "metadata": {},
   "outputs": [
    {
     "data": {
      "text/plain": [
       "1"
      ]
     },
     "execution_count": 7,
     "metadata": {},
     "output_type": "execute_result"
    }
   ],
   "source": [
    "nd1.min()"
   ]
  },
  {
   "cell_type": "code",
   "execution_count": 8,
   "id": "f5ae3b79",
   "metadata": {},
   "outputs": [
    {
     "data": {
      "text/plain": [
       "array([2, 3])"
      ]
     },
     "execution_count": 8,
     "metadata": {},
     "output_type": "execute_result"
    }
   ],
   "source": [
    "nd1[1]#取第一行"
   ]
  },
  {
   "cell_type": "code",
   "execution_count": 9,
   "id": "1cff9860",
   "metadata": {},
   "outputs": [],
   "source": [
    "nd2 = np.array([[\"1\",\"2\"],[\"3\",\"4\"]])"
   ]
  },
  {
   "cell_type": "code",
   "execution_count": 10,
   "id": "341cd169",
   "metadata": {},
   "outputs": [
    {
     "name": "stdout",
     "output_type": "stream",
     "text": [
      "[['1' '2']\n",
      " ['3' '4']]\n"
     ]
    }
   ],
   "source": [
    "print(nd2)"
   ]
  },
  {
   "cell_type": "code",
   "execution_count": 11,
   "id": "fbc3fd2c",
   "metadata": {},
   "outputs": [
    {
     "ename": "TypeError",
     "evalue": "cannot perform reduce with flexible type",
     "output_type": "error",
     "traceback": [
      "\u001b[1;31m--------------------------------------------------------------------\u001b[0m",
      "\u001b[1;31mTypeError\u001b[0m                          Traceback (most recent call last)",
      "\u001b[1;32mC:\\Users\\I‘MAG~1\\AppData\\Local\\Temp/ipykernel_13184/1778844841.py\u001b[0m in \u001b[0;36m<module>\u001b[1;34m\u001b[0m\n\u001b[1;32m----> 1\u001b[1;33m \u001b[0mnd2\u001b[0m\u001b[1;33m.\u001b[0m\u001b[0mmax\u001b[0m\u001b[1;33m(\u001b[0m\u001b[1;33m)\u001b[0m\u001b[1;33m\u001b[0m\u001b[1;33m\u001b[0m\u001b[0m\n\u001b[0m",
      "\u001b[1;32md:\\soft\\python3.7.9\\lib\\site-packages\\numpy\\core\\_methods.py\u001b[0m in \u001b[0;36m_amax\u001b[1;34m(a, axis, out, keepdims, initial, where)\u001b[0m\n\u001b[0;32m     38\u001b[0m def _amax(a, axis=None, out=None, keepdims=False,\n\u001b[0;32m     39\u001b[0m           initial=_NoValue, where=True):\n\u001b[1;32m---> 40\u001b[1;33m     \u001b[1;32mreturn\u001b[0m \u001b[0mumr_maximum\u001b[0m\u001b[1;33m(\u001b[0m\u001b[0ma\u001b[0m\u001b[1;33m,\u001b[0m \u001b[0maxis\u001b[0m\u001b[1;33m,\u001b[0m \u001b[1;32mNone\u001b[0m\u001b[1;33m,\u001b[0m \u001b[0mout\u001b[0m\u001b[1;33m,\u001b[0m \u001b[0mkeepdims\u001b[0m\u001b[1;33m,\u001b[0m \u001b[0minitial\u001b[0m\u001b[1;33m,\u001b[0m \u001b[0mwhere\u001b[0m\u001b[1;33m)\u001b[0m\u001b[1;33m\u001b[0m\u001b[1;33m\u001b[0m\u001b[0m\n\u001b[0m\u001b[0;32m     41\u001b[0m \u001b[1;33m\u001b[0m\u001b[0m\n\u001b[0;32m     42\u001b[0m def _amin(a, axis=None, out=None, keepdims=False,\n",
      "\u001b[1;31mTypeError\u001b[0m: cannot perform reduce with flexible type"
     ]
    }
   ],
   "source": [
    "nd2.max()"
   ]
  },
  {
   "cell_type": "code",
   "execution_count": 19,
   "id": "9d493f09",
   "metadata": {},
   "outputs": [],
   "source": [
    "nd2 = nd2.astype(\"int\")"
   ]
  },
  {
   "cell_type": "code",
   "execution_count": 20,
   "id": "740d44c4",
   "metadata": {},
   "outputs": [
    {
     "data": {
      "text/plain": [
       "4"
      ]
     },
     "execution_count": 20,
     "metadata": {},
     "output_type": "execute_result"
    }
   ],
   "source": [
    "nd2.max()"
   ]
  },
  {
   "cell_type": "code",
   "execution_count": 21,
   "id": "c155c8b9",
   "metadata": {},
   "outputs": [],
   "source": [
    "#索引\n",
    "nd3 = np.array([[1,2,3],[4,5,6],[7,8,9],[1,2,3]])"
   ]
  },
  {
   "cell_type": "code",
   "execution_count": 22,
   "id": "869cfde1",
   "metadata": {},
   "outputs": [
    {
     "data": {
      "text/plain": [
       "array([[1, 2, 3],\n",
       "       [4, 5, 6],\n",
       "       [7, 8, 9],\n",
       "       [1, 2, 3]])"
      ]
     },
     "execution_count": 22,
     "metadata": {},
     "output_type": "execute_result"
    }
   ],
   "source": [
    "nd3"
   ]
  },
  {
   "cell_type": "code",
   "execution_count": 24,
   "id": "b9bede4e",
   "metadata": {},
   "outputs": [
    {
     "data": {
      "text/plain": [
       "(4, 3)"
      ]
     },
     "execution_count": 24,
     "metadata": {},
     "output_type": "execute_result"
    }
   ],
   "source": [
    "nd3.shape #4行3列"
   ]
  },
  {
   "cell_type": "code",
   "execution_count": 26,
   "id": "47ef726f",
   "metadata": {},
   "outputs": [
    {
     "data": {
      "text/plain": [
       "array([7, 8, 9])"
      ]
     },
     "execution_count": 26,
     "metadata": {},
     "output_type": "execute_result"
    }
   ],
   "source": [
    "nd3[2]"
   ]
  },
  {
   "cell_type": "code",
   "execution_count": 27,
   "id": "c3c6381a",
   "metadata": {},
   "outputs": [
    {
     "data": {
      "text/plain": [
       "array([[4, 5, 6],\n",
       "       [7, 8, 9]])"
      ]
     },
     "execution_count": 27,
     "metadata": {},
     "output_type": "execute_result"
    }
   ],
   "source": [
    "nd3[1:3:1]"
   ]
  },
  {
   "cell_type": "code",
   "execution_count": 28,
   "id": "618a489d",
   "metadata": {},
   "outputs": [],
   "source": [
    "#切片\n",
    "#[行的切片,列的切片]\n",
    "# [行的起始位置:行的结束位置:步长,列的起始位置:列的结束为止:步长]"
   ]
  },
  {
   "cell_type": "code",
   "execution_count": 30,
   "id": "5152dc3e",
   "metadata": {},
   "outputs": [
    {
     "data": {
      "text/plain": [
       "array([[5, 6],\n",
       "       [8, 9]])"
      ]
     },
     "execution_count": 30,
     "metadata": {},
     "output_type": "execute_result"
    }
   ],
   "source": [
    "nd3[1:3:1,1:3:1]"
   ]
  },
  {
   "cell_type": "code",
   "execution_count": 32,
   "id": "d0248332",
   "metadata": {},
   "outputs": [
    {
     "data": {
      "text/plain": [
       "array([3, 6, 9, 3])"
      ]
     },
     "execution_count": 32,
     "metadata": {},
     "output_type": "execute_result"
    }
   ],
   "source": [
    "nd3[:,2] # 2表示取第二列，2：表示取第二列以及之后的都取上"
   ]
  },
  {
   "cell_type": "code",
   "execution_count": 43,
   "id": "cd2b95e2",
   "metadata": {},
   "outputs": [],
   "source": [
    "nd4 = np.array(\n",
    "[\n",
    "    [0,1,2,3,4,5],\n",
    "    [10,11,12,13,14,15],\n",
    "    [20,21,22,23,24,25],\n",
    "    [30,31,32,33,34,35],\n",
    "    [40,41,42,43,44,45],\n",
    "    [50,51,52,53,54,55]\n",
    "])"
   ]
  },
  {
   "cell_type": "markdown",
   "id": "1852362e",
   "metadata": {},
   "source": [
    "nd4"
   ]
  },
  {
   "cell_type": "code",
   "execution_count": 38,
   "id": "beaff622",
   "metadata": {},
   "outputs": [
    {
     "data": {
      "text/plain": [
       "array([ 1, 12, 23, 34, 45])"
      ]
     },
     "execution_count": 38,
     "metadata": {},
     "output_type": "execute_result"
    }
   ],
   "source": [
    "#坐标\n",
    "nd4[(0,1,2,3,4),(1,2,3,4,5)]"
   ]
  },
  {
   "cell_type": "code",
   "execution_count": 44,
   "id": "c129b85b",
   "metadata": {},
   "outputs": [
    {
     "data": {
      "text/plain": [
       "array([ 2, 22, 52])"
      ]
     },
     "execution_count": 44,
     "metadata": {},
     "output_type": "execute_result"
    }
   ],
   "source": [
    "nd4[(0,2,5),2]"
   ]
  },
  {
   "cell_type": "code",
   "execution_count": 45,
   "id": "86edac3a",
   "metadata": {},
   "outputs": [],
   "source": [
    "nd5 = np.array([1,0,1,0,0,1],dtype='bool')"
   ]
  },
  {
   "cell_type": "code",
   "execution_count": 46,
   "id": "845d0a63",
   "metadata": {},
   "outputs": [
    {
     "data": {
      "text/plain": [
       "array([ True, False,  True, False, False,  True])"
      ]
     },
     "execution_count": 46,
     "metadata": {},
     "output_type": "execute_result"
    }
   ],
   "source": [
    "nd5"
   ]
  },
  {
   "cell_type": "code",
   "execution_count": 47,
   "id": "fd6d8e03",
   "metadata": {},
   "outputs": [
    {
     "data": {
      "text/plain": [
       "array([ 2, 22, 52])"
      ]
     },
     "execution_count": 47,
     "metadata": {},
     "output_type": "execute_result"
    }
   ],
   "source": [
    "# 布尔索引\n",
    "nd4[(nd5),2]"
   ]
  },
  {
   "cell_type": "code",
   "execution_count": 48,
   "id": "d5b7ac1c",
   "metadata": {},
   "outputs": [
    {
     "data": {
      "text/plain": [
       "array([[False,  True, False,  True, False,  True],\n",
       "       [False,  True, False,  True, False,  True],\n",
       "       [False,  True, False,  True, False,  True],\n",
       "       [False,  True, False,  True, False,  True],\n",
       "       [False,  True, False,  True, False,  True],\n",
       "       [False,  True, False,  True, False,  True]])"
      ]
     },
     "execution_count": 48,
     "metadata": {},
     "output_type": "execute_result"
    }
   ],
   "source": [
    "nd4%2 == 1"
   ]
  },
  {
   "cell_type": "code",
   "execution_count": 49,
   "id": "3b62ec51",
   "metadata": {},
   "outputs": [
    {
     "data": {
      "text/plain": [
       "array([ 1,  3,  5, 11, 13, 15, 21, 23, 25, 31, 33, 35, 41, 43, 45, 51, 53,\n",
       "       55])"
      ]
     },
     "execution_count": 49,
     "metadata": {},
     "output_type": "execute_result"
    }
   ],
   "source": [
    "nd4[nd4%2 == 1]"
   ]
  },
  {
   "cell_type": "code",
   "execution_count": 50,
   "id": "24fa0ec2",
   "metadata": {},
   "outputs": [],
   "source": [
    "nd1 = np.array([[1,2,3],[4,5,6]])"
   ]
  },
  {
   "cell_type": "code",
   "execution_count": 52,
   "id": "0f4c364d",
   "metadata": {},
   "outputs": [],
   "source": [
    "nd2 = np.array([[2,3,4],[1,2,3]])"
   ]
  },
  {
   "cell_type": "code",
   "execution_count": 54,
   "id": "16ba6345",
   "metadata": {},
   "outputs": [
    {
     "data": {
      "text/plain": [
       "array([[1, 2, 3],\n",
       "       [4, 5, 6]])"
      ]
     },
     "execution_count": 54,
     "metadata": {},
     "output_type": "execute_result"
    }
   ],
   "source": [
    "nd1"
   ]
  },
  {
   "cell_type": "code",
   "execution_count": 55,
   "id": "8372f15d",
   "metadata": {},
   "outputs": [
    {
     "data": {
      "text/plain": [
       "array([[2, 3, 4],\n",
       "       [1, 2, 3]])"
      ]
     },
     "execution_count": 55,
     "metadata": {},
     "output_type": "execute_result"
    }
   ],
   "source": [
    "nd2"
   ]
  },
  {
   "cell_type": "code",
   "execution_count": 58,
   "id": "4ce1772d",
   "metadata": {},
   "outputs": [
    {
     "name": "stdout",
     "output_type": "stream",
     "text": [
      "[[3 5 7]\n",
      " [5 7 9]]\n",
      "[[-1 -1 -1]\n",
      " [ 3  3  3]]\n",
      "[[ 2  6 12]\n",
      " [ 4 10 18]]\n",
      "[[0.5        0.66666667 0.75      ]\n",
      " [4.         2.5        2.        ]]\n"
     ]
    }
   ],
   "source": [
    "# 对位运算\n",
    "print(nd1 + nd2)\n",
    "print(nd1 - nd2)\n",
    "print(nd1 * nd2)\n",
    "print(nd1 / nd2)"
   ]
  },
  {
   "cell_type": "code",
   "execution_count": 61,
   "id": "b66c2a9b",
   "metadata": {},
   "outputs": [],
   "source": [
    "# 矩阵运算\n",
    "nd3 = np.array([[1,2],[2,3],[3,4]])"
   ]
  },
  {
   "cell_type": "code",
   "execution_count": 62,
   "id": "5a59ca55",
   "metadata": {},
   "outputs": [
    {
     "data": {
      "text/plain": [
       "array([[1, 2],\n",
       "       [2, 3],\n",
       "       [3, 4]])"
      ]
     },
     "execution_count": 62,
     "metadata": {},
     "output_type": "execute_result"
    }
   ],
   "source": [
    "nd3"
   ]
  },
  {
   "cell_type": "code",
   "execution_count": 63,
   "id": "5bf55eeb",
   "metadata": {},
   "outputs": [
    {
     "data": {
      "text/plain": [
       "array([[14, 20],\n",
       "       [32, 47]])"
      ]
     },
     "execution_count": 63,
     "metadata": {},
     "output_type": "execute_result"
    }
   ],
   "source": [
    "np.dot(nd1,nd3)"
   ]
  },
  {
   "cell_type": "code",
   "execution_count": 64,
   "id": "d5c69413",
   "metadata": {},
   "outputs": [
    {
     "data": {
      "text/plain": [
       "array([[3.        , 1.91666667],\n",
       "       [8.5       , 5.16666667]])"
      ]
     },
     "execution_count": 64,
     "metadata": {},
     "output_type": "execute_result"
    }
   ],
   "source": [
    "np.dot(nd1,1/nd3)"
   ]
  },
  {
   "cell_type": "code",
   "execution_count": null,
   "id": "1c58b0f6",
   "metadata": {},
   "outputs": [],
   "source": []
  }
 ],
 "metadata": {
  "kernelspec": {
   "display_name": "Python 3 (ipykernel)",
   "language": "python",
   "name": "python3"
  },
  "language_info": {
   "codemirror_mode": {
    "name": "ipython",
    "version": 3
   },
   "file_extension": ".py",
   "mimetype": "text/x-python",
   "name": "python",
   "nbconvert_exporter": "python",
   "pygments_lexer": "ipython3",
   "version": "3.7.9"
  }
 },
 "nbformat": 4,
 "nbformat_minor": 5
}
